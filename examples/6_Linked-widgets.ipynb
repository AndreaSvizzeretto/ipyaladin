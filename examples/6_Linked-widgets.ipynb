{
 "cells": [
  {
   "attachments": {},
   "cell_type": "markdown",
   "metadata": {},
   "source": [
    "# Linked widgets\n",
    "\n",
    "Widgets can be linked to compare between different surveys. Try moving one of the views and the others will follow!"
   ]
  },
  {
   "cell_type": "code",
   "execution_count": null,
   "metadata": {},
   "outputs": [],
   "source": [
    "from ipyaladin import Aladin\n",
    "\n",
    "from ipywidgets import Layout, Box, widgets\n",
    "\n",
    "a = Aladin(layout=Layout(width=\"33.33%\"), target=\"M 81\", fov=0.3)\n",
    "b = Aladin(layout=Layout(width=\"33.33%\"), survey=\"P/DSS2/red\")\n",
    "c = Aladin(layout=Layout(width=\"33.33%\"), survey=\"P/2MASS/color\")\n",
    "\n",
    "# synchronize target between 3 widgets\n",
    "widgets.jslink((a, \"target\"), (b, \"target\"))\n",
    "widgets.jslink((b, \"target\"), (c, \"target\"))\n",
    "\n",
    "# synchronize FoV (zoom level) between 3 widgets\n",
    "widgets.jslink((a, \"fov\"), (b, \"fov\"))\n",
    "widgets.jslink((b, \"fov\"), (c, \"fov\"))\n",
    "\n",
    "items = [a, b, c]\n",
    "\n",
    "box_layout = Layout(\n",
    "    display=\"flex\", flex_flow=\"row\", align_items=\"stretch\", border=\"solid\", width=\"100%\"\n",
    ")\n",
    "box = Box(children=items, layout=box_layout)\n",
    "box"
   ]
  }
 ],
 "metadata": {
  "kernelspec": {
   "display_name": "Python 3 (ipykernel)",
   "language": "python",
   "name": "python3"
  },
  "language_info": {
   "codemirror_mode": {
    "name": "ipython",
    "version": 3
   },
   "file_extension": ".py",
   "mimetype": "text/x-python",
   "name": "python",
   "nbconvert_exporter": "python",
   "pygments_lexer": "ipython3",
   "version": "3.8.10"
  }
 },
 "nbformat": 4,
 "nbformat_minor": 4
}
